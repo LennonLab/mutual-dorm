{
 "cells": [
  {
   "cell_type": "markdown",
   "metadata": {},
   "source": [
    "# Mutualism IBM"
   ]
  },
  {
   "cell_type": "code",
   "execution_count": 285,
   "metadata": {},
   "outputs": [],
   "source": [
    "import pandas as pd \n",
    "import numpy as np\n",
    "import matplotlib.pyplot as plt\n",
    "from copy import deepcopy"
   ]
  },
  {
   "cell_type": "markdown",
   "metadata": {},
   "source": [
    "## Resource class"
   ]
  },
  {
   "cell_type": "code",
   "execution_count": 286,
   "metadata": {},
   "outputs": [],
   "source": [
    "class Resource():\n",
    "\n",
    "    def __init__(self, ty:str, C:float=100):\n",
    "        \"\"\"\n",
    "        Resource - particle used for cell functions   \n",
    "        -------------------------------------------\n",
    "        ty (str): resource type\n",
    "        C (float): concentration of resource\n",
    "        \"\"\"\n",
    "        self.type = ty \n",
    "        self.C = C\n",
    "\n",
    "    def consume(self, m):\n",
    "        \"\"\"\n",
    "        Consume amount m of this resource  \n",
    "        \"\"\"\n",
    "\n",
    "        self.C -= m\n",
    "\n",
    "        return None\n",
    "\n",
    "    \n",
    "        "
   ]
  },
  {
   "cell_type": "markdown",
   "metadata": {},
   "source": [
    "## Cell class"
   ]
  },
  {
   "cell_type": "code",
   "execution_count": 287,
   "metadata": {},
   "outputs": [],
   "source": [
    "class Cell():\n",
    "\n",
    "    def __init__(self, ty:str=None, trait:float=None, R:float=1.0, size:float=1.0) -> None:\n",
    "        \"\"\" \n",
    "        Cell - basic individual unit\n",
    "        ----------------------------\n",
    "        ty (str): type or allele of cell (Default: None)\n",
    "        trait (float): primary trait value (Default: None)\n",
    "        R (float): endogenous resources\n",
    "        size (float): cell size\n",
    "        \"\"\"\n",
    "        assert ty in ['A', 'B', None], \"ty should be A or B\"\n",
    "        assert trait is None or trait >= 0 and trait <= 1, \"trait should be on interval [0,1]\"\n",
    "\n",
    "        self.req = set(['C'])\n",
    "        self.type = self.init_ty(ty)\n",
    "        self.trait = self.init_trait(trait)\n",
    "        self.R = R\n",
    "        self.size = size\n",
    "        self.mt = 0.5 # cost of self maintenance\n",
    "        self.g = 0.2 # growth constant\n",
    "        self.rp = 0.1 # resource production constant \n",
    "        # self.supplement()\n",
    "        self.d = 0.01 # base probability of dormancy\n",
    "        self.isDepleted = False\n",
    "        self.isDividing = False\n",
    "\n",
    "    def init_ty(self, ty) -> str:\n",
    "        \"\"\"  \n",
    "        Initialize cell type\n",
    "        \"\"\"\n",
    "        if ty is None: # default behavior, else return provided value\n",
    "            \n",
    "            ty = np.random.choice(['A', 'B'])\n",
    "\n",
    "            if ty=='A': self.req.add('B')\n",
    "            elif ty=='B': self.req.add('A')\n",
    "            \n",
    "            \n",
    "        return ty\n",
    "    \n",
    "    def init_trait(self, trait, mutate=False) -> float:\n",
    "        \"\"\" \n",
    "        picks a random trait value if not specified \n",
    "        \"\"\"\n",
    "        if trait is None: # default behavior, else return provided value\n",
    "\n",
    "            trait = np.random.uniform()\n",
    "        \n",
    "        elif mutate:\n",
    "            pass\n",
    "\n",
    "        return trait\n",
    "    \n",
    "    def depleted(self) -> None:\n",
    "        self.isDepleted = self.R <= 0\n",
    "        # if self.R <= 0: print('empty')\n",
    "        return None\n",
    "\n",
    "    def maintenance(self) -> None:\n",
    "        self.R -= min(self.R, self.mt)\n",
    "        return None\n",
    "    \n",
    "    def growth(self) -> None:\n",
    "        g = min(self.g, self.R)\n",
    "        self.R -= g\n",
    "        self.size += g\n",
    "        return None\n",
    "    \n",
    "    def division(self) -> None:\n",
    "        if self.R < 0:\n",
    "            \n",
    "            p = self.R/(1+self.R) * self.size/(1+self.size) # probability of cell division\n",
    "\n",
    "            if np.random.binomial(1, p) == 1:\n",
    "                self.isDividing = True\n",
    "\n",
    "        return None\n",
    "\n",
    "    def divide(self) -> None:\n",
    "\n",
    "        self.size /= 2\n",
    "        self.R /= 2\n",
    "        self.isDividing = False \n",
    "\n",
    "        return None\n",
    "        \n",
    "    def produce(self) -> float:\n",
    "        s = self.trait*self.R\n",
    "        return max(s, 0)\n",
    "    \n",
    "    def uptake(self, resource) -> None:\n",
    "        \"\"\"  \n",
    "        Intake resources\n",
    "        \"\"\"\n",
    "\n",
    "        self.R += resource\n",
    "\n",
    "        return None\n",
    "    \n",
    "    def timestep(self, resource) -> None:\n",
    "        # maintenance\n",
    "        self.maintenance()\n",
    "\n",
    "        # growth\n",
    "        self.growth()\n",
    "\n",
    "        # metabolite production\n",
    "        self.R -= self.produce()\n",
    "\n",
    "        # division\n",
    "        self.division()\n",
    "\n",
    "        self.depleted()\n",
    "\n",
    "        # dormancy\n",
    "        if not self.isDividing:\n",
    "            self.d = 1/(1+self.R) # probability of going dormant\n",
    "\n",
    "        return None\n",
    "    \n",
    "    \n",
    "    \n",
    "    def dorm(self) -> None:\n",
    "        \"\"\" \n",
    "        calculate probability of going dormant\n",
    "        prob = 0 if the cell is dividing\n",
    "        \"\"\"\n",
    "\n",
    "        if not self.isDividing:\n",
    "            self.d = 1/(1+self.R)\n",
    "        \n",
    "        else:\n",
    "            self.d = 0\n",
    "\n",
    "        return None\n",
    "    \n",
    "    # def production(self, resources:dict):\n",
    "    #     \"\"\"  \n",
    "    #     Amount of secondary resource this cell produces\n",
    "    #     \"\"\"\n",
    "\n",
    "    #     return self.trait * self.fitness(resources)\n",
    "\n",
    "    # def supplement(self) -> None:\n",
    "    #     \"\"\"  \n",
    "    #     Required resources for the cell\n",
    "    #     Current version is basic\n",
    "    #     \"\"\"\n",
    "    #     self.sup = set()\n",
    "\n",
    "    #     if self.type=='A':\n",
    "    #         self.sup.add('R_a')\n",
    "\n",
    "    #     elif self.type=='B':\n",
    "    #         self.sup.add('R_b')\n",
    "\n",
    "    #     return None\n",
    "    \n",
    "    # def fitness(self, resources:dict) -> float:\n",
    "    #     \"\"\"\n",
    "    #     Absolute fitness W of cell based on available resources\n",
    "    #     \"\"\"\n",
    "    #     req = self.req\n",
    "\n",
    "    #     # initialize\n",
    "    #     W = 0 \n",
    "    #     W_req = 0 # required\n",
    "    #     W_sup = 0 # supplemental\n",
    "\n",
    "    #     for resource, R in resources.items(): # for all  resources\n",
    "\n",
    "    #         if resource in req:  # if required\n",
    "    #             W_req *= R/(50 + R)\n",
    "        \n",
    "    #         elif True: # if supplemental\n",
    "\n",
    "    #             W_sup *= R/(50 + R)\n",
    "\n",
    "\n",
    "    #     if W_req==0: \n",
    "            \n",
    "    #         W = 0 # if no required resources, can't grow \n",
    "        \n",
    "    #     else:\n",
    "    #          W = W_req + W_sup\n",
    "\n",
    "    #     return W\n",
    "\n",
    "        "
   ]
  },
  {
   "cell_type": "markdown",
   "metadata": {},
   "source": [
    "## Population class"
   ]
  },
  {
   "cell_type": "code",
   "execution_count": 288,
   "metadata": {},
   "outputs": [],
   "source": [
    "class Population():\n",
    "    \"\"\" \n",
    "    Population - collection of cells\n",
    "    --------------------------------\n",
    "    cells (list) - list of Cell() objects\n",
    "    N (int, default=100) - population size \n",
    "    \"\"\"\n",
    "    def __init__(self, cells:list, resources:dict, N:int=100) -> None:\n",
    "        # try\n",
    "        self.__update(cells)\n",
    "        self.dormant = list()\n",
    "        self.resources = resources  \n",
    "\n",
    "    def timestep(self) -> None:\n",
    "        \"\"\"\n",
    "        Processes that occur every timestep \n",
    "        \"\"\"\n",
    "\n",
    "        # 1 resuscitate\n",
    "        resc = self.resc()\n",
    "        cells = np.array(self.cells + resc) # bank of cells comes prev timestep and current resuscitated cells\n",
    "\n",
    "        # 2 internal cell processes\n",
    "\n",
    "        m = 1\n",
    "\n",
    "        order = np.random.choice(range(self.N), size=self.N) # randomize order of cells\n",
    "\n",
    "        for i in order:\n",
    "\n",
    "            cell = cells[i]\n",
    "            a = cell.R\n",
    "\n",
    "            cell.maintenance()\n",
    "            cell.growth()\n",
    "\n",
    "            R = cell.produce()\n",
    "            cell.R -= R\n",
    "\n",
    "            self.resources[cell.type] += R\n",
    "\n",
    "            cell.division()\n",
    "            \n",
    "\n",
    "            for r in cell.req: # for all resources this cell uses\n",
    "\n",
    "                if self.resources[r] > m:\n",
    "\n",
    "                    cell.R += m\n",
    "                    self.resources[r] -= m\n",
    "\n",
    "            cell.depleted()\n",
    "                  \n",
    "        \n",
    "        # 3 pick next gen\n",
    "        cells = np.array(cells) # convert for slicing\n",
    "        \n",
    "        # cells without resources die\n",
    "        notDepleted = np.array([not cell.isDepleted for cell in cells])\n",
    "        cells = cells[notDepleted]\n",
    "\n",
    "        isDividing = np.array([cell.isDividing for cell in cells])\n",
    "        daughters = [self.daughterCell(cell) for cell in cells[isDividing]]\n",
    "\n",
    "        next_gen = list(cells) + daughters\n",
    "        # weights = self.weights(cells, resources)\n",
    "        # new_cells = list(np.random.choice(cells, size=self.N, replace=True, p=weights))\n",
    "        \n",
    "        # 4 dormancy\n",
    "        dorm = self.dorm()\n",
    "        self.dormant += dorm # add cells to dormancy list\n",
    "        self.__update(next_gen)\n",
    "        \n",
    "\n",
    "        for resource, R in self.resources.items():\n",
    "            if R <= 0:\n",
    "                self.resources[resource] = 0\n",
    "\n",
    "        return None\n",
    "\n",
    "    def freq(self, ty) -> float:\n",
    "        \"\"\"\n",
    "        Returns frequency of given allele (ty) in pop  \n",
    "        \"\"\"\n",
    "        return self.types.count(ty)/len(self.cells)\n",
    "    \n",
    "    def density(self, ty) -> int:\n",
    "        \"\"\"\n",
    "        Returns frequency of given allele (ty) in pop   \n",
    "        \"\"\"\n",
    "        return self.types.count(ty)\n",
    "\n",
    "    def trait_mean(self) -> float:\n",
    "        \"\"\"\n",
    "        Takes mean trait of pop \n",
    "        \"\"\"\n",
    "        return np.mean(self.traits)\n",
    "    \n",
    "    def weights(self, cells, resources) -> np.array:\n",
    "        \"\"\" \n",
    "        Return probabilities that each cell is selected for the next timestep\n",
    "        \"\"\"\n",
    "        W = [ cell.fitness(resources) for cell in cells ] # absolute fitness for all\n",
    "\n",
    "        sumW = np.sum(W)\n",
    "\n",
    "        if sumW == 0:\n",
    "            return None\n",
    "\n",
    "        weights = W/np.sum(W) # relative fitness, kinda\n",
    "        \n",
    "        if np.isnan(np.sum(weights)):\n",
    "            weights = None\n",
    "\n",
    "        return weights\n",
    "    \n",
    "    def daughterCell(self, cell:Cell)->Cell:\n",
    "        cell.divide()\n",
    "        daughter = deepcopy(cell)\n",
    "        return daughter\n",
    "    \n",
    "    def dorm(self, responsive:bool=False) -> list:\n",
    "        \"\"\" \n",
    "        Select cells to enter dormancy\n",
    "        \"\"\"\n",
    "        cells = self.cells\n",
    "        \n",
    "        if responsive:\n",
    "            # pD = np.array([ cell.d for cell in cells ]) # array of dormancy probabilities\n",
    "            pD = np.array([ cell.d for cell in cells ]) # array of dormancy probabilities\n",
    "            rng = np.random.uniform(size = self.N) # cell becomes dormant if random num is smaller than pD\n",
    "            isDormant = pD > rng  \n",
    "            dormant = np.array(cells)[isDormant] # filter by the cells that should be dormant\n",
    "\n",
    "        else:\n",
    "            pD = 0.01 # per cell probability of going dormant\n",
    "            N = len(cells)\n",
    "            D = np.random.binomial( n=N, p=pD ) # the number of cells that go into dormancy is binomially distributed\n",
    "            dormant = np.random.choice(cells, size=D, replace=False) # pick which cells go dormant\n",
    "\n",
    "        for cell in dormant: # remove dormant cells from active population\n",
    "            self.cells.remove(cell)\n",
    "\n",
    "        return list(dormant)\n",
    "    \n",
    "    def resc(self) -> list:\n",
    "        \"\"\"\n",
    "        Pick cells to resuscitate from dormancy\n",
    "        \"\"\"\n",
    "        pR = 0.01 # per cell prob of resuscitating\n",
    "        D = len(self.dormant) # number of dormant cells\n",
    "        R = np.random.binomial( n=D, p=pR )\n",
    "        resc = np.random.choice(self.dormant, size=R, replace=False)\n",
    "\n",
    "        for cell in resc: # remove resuscitated cells from dormant population\n",
    "            self.dormant.remove(cell)\n",
    "\n",
    "        return list(resc)\n",
    "    \n",
    "    def __update(self, cells) -> None:\n",
    "        \"\"\" update population attributes \"\"\"\n",
    "        self.types = [cell.type for cell in cells]\n",
    "        self.traits = np.array([cell.trait for cell in cells])\n",
    "        self.cells = cells\n",
    "        self.N = len(cells)\n",
    "        return None"
   ]
  },
  {
   "cell_type": "markdown",
   "metadata": {},
   "source": [
    "## Make populations"
   ]
  },
  {
   "cell_type": "code",
   "execution_count": 300,
   "metadata": {},
   "outputs": [],
   "source": [
    "N_i = 100 # initial N\n",
    "t_max = 100\n",
    "\n",
    "# R_i = {\n",
    "#     'A': Resource(ty='A', C=0),\n",
    "#     'B': Resource(ty='B', C=0),\n",
    "#     'C': Resource(ty='C', C=100)\n",
    "# }\n",
    "\n",
    "R_i = {\n",
    "    'A': 0,\n",
    "    'B': 0,\n",
    "    'C': 100\n",
    "}\n",
    "pop = Population([ Cell() for i in range(N_i) ], R_i)"
   ]
  },
  {
   "cell_type": "markdown",
   "metadata": {},
   "source": [
    "## simulate"
   ]
  },
  {
   "cell_type": "code",
   "execution_count": 301,
   "metadata": {},
   "outputs": [],
   "source": [
    "freqA = [pop.freq('A')]\n",
    "mean_trait = [pop.trait_mean()]\n",
    "D = [len(pop.dormant)]\n",
    "Na = [pop.density('A')]\n",
    "Nb = [pop.density('B')]\n",
    "r_a = [R_i['A']]\n",
    "r_b = [R_i['B']]\n",
    "r_c = [R_i['C']]\n",
    "\n",
    "for i in range(t_max):\n",
    "\n",
    "    pop.timestep()\n",
    "\n",
    "    pop.resources['C'] += 100\n",
    "    \n",
    "    freqA.append(pop.freq('A'))\n",
    "    Na.append(pop.density('A'))\n",
    "    Nb.append(pop.density('B'))\n",
    "    mean_trait.append(pop.trait_mean())\n",
    "    D.append(len(pop.dormant))\n",
    "    r_a.append(pop.resources['A'])\n",
    "    r_b.append(pop.resources['B'])\n",
    "    r_c.append(pop.resources['C'])\n",
    "\n"
   ]
  },
  {
   "cell_type": "markdown",
   "metadata": {},
   "source": [
    "## plot"
   ]
  },
  {
   "cell_type": "markdown",
   "metadata": {},
   "source": [
    "### densities over time"
   ]
  },
  {
   "cell_type": "code",
   "execution_count": 302,
   "metadata": {},
   "outputs": [
    {
     "data": {
      "image/png": "[encoded data removed]",
      "text/plain": [
       "<Figure size 640x480 with 1 Axes>"
      ]
     },
     "metadata": {},
     "output_type": "display_data"
    }
   ],
   "source": [
    "fig, ax = plt.subplots()\n",
    "ax.plot(range(t_max+1), Na)\n",
    "ax.plot(range(t_max+1), Nb)\n",
    "ax.set_xlabel('time')\n",
    "ax.set_ylabel('density')\n",
    "plt.show()"
   ]
  },
  {
   "cell_type": "markdown",
   "metadata": {},
   "source": [
    "### p(a) over time"
   ]
  },
  {
   "cell_type": "code",
   "execution_count": 292,
   "metadata": {},
   "outputs": [
    {
     "data": {
      "image/png": "[encoded data removed]",
      "text/plain": [
       "<Figure size 640x480 with 1 Axes>"
      ]
     },
     "metadata": {},
     "output_type": "display_data"
    }
   ],
   "source": [
    "fig, ax = plt.subplots()\n",
    "ax.plot(range(t_max+1), freqA)\n",
    "ax.set_xlabel('time')\n",
    "ax.set_ylabel('p(A)')\n",
    "ax.set_ylim(0,1)\n",
    "plt.show()"
   ]
  },
  {
   "cell_type": "markdown",
   "metadata": {},
   "source": [
    "### Mean Trait Value"
   ]
  },
  {
   "cell_type": "code",
   "execution_count": 293,
   "metadata": {},
   "outputs": [
    {
     "data": {
      "image/png": "[encoded data removed]",
      "text/plain": [
       "<Figure size 640x480 with 1 Axes>"
      ]
     },
     "metadata": {},
     "output_type": "display_data"
    }
   ],
   "source": [
    "fig, ax = plt.subplots()\n",
    "ax.plot(range(t_max+1), mean_trait)\n",
    "ax.set_xlabel('time')\n",
    "ax.set_ylabel('Trait value')\n",
    "ax.set_ylim(0,1)\n",
    "plt.show()"
   ]
  },
  {
   "cell_type": "markdown",
   "metadata": {},
   "source": [
    "### Number of dormant cells over time"
   ]
  },
  {
   "cell_type": "code",
   "execution_count": 294,
   "metadata": {},
   "outputs": [
    {
     "data": {
      "image/png": "[encoded data removed]",
      "text/plain": [
       "<Figure size 640x480 with 1 Axes>"
      ]
     },
     "metadata": {},
     "output_type": "display_data"
    }
   ],
   "source": [
    "fig, ax = plt.subplots()\n",
    "ax.plot(range(1, t_max+1), D[1:len(D)])\n",
    "ax.set_xlabel('time')\n",
    "ax.set_ylabel('Num Dormant Cells')\n",
    "plt.show()"
   ]
  },
  {
   "cell_type": "code",
   "execution_count": 295,
   "metadata": {},
   "outputs": [
    {
     "data": {
      "image/png": "[encoded data removed]",
      "text/plain": [
       "<Figure size 640x480 with 1 Axes>"
      ]
     },
     "metadata": {},
     "output_type": "display_data"
    }
   ],
   "source": [
    "fig, ax = plt.subplots()\n",
    "ax.plot(range(t_max+1), r_a)\n",
    "ax.plot(range(t_max+1), r_b)\n",
    "ax.plot(range(t_max+1), r_c)\n",
    "ax.set_xlabel('time')\n",
    "ax.set_ylabel('Resource Concentration')\n",
    "# ax.set_yscale('log')\n",
    "plt.show()"
   ]
  }
 ],
 "metadata": {
  "interpreter": {
   "hash": "519f4ad18c2848b8c8938e66ebe86e27ae28f1467f86990cf340ab57e426c16a"
  },
  "kernelspec": {
   "display_name": "Python 3.9.4 64-bit ('ibm': conda)",
   "name": "python3"
  },
  "language_info": {
   "codemirror_mode": {
    "name": "ipython",
    "version": 3
   },
   "file_extension": ".py",
   "mimetype": "text/x-python",
   "name": "python",
   "nbconvert_exporter": "python",
   "pygments_lexer": "ipython3",
   "version": "3.9.4"
  },
  "metadata": {
   "interpreter": {
    "hash": "7e81b8f71a7f8998f107e6976092b7d823e9b268eb4e6d07810890cab1aaa1c8"
   }
  },
  "orig_nbformat": 2
 },
 "nbformat": 4,
 "nbformat_minor": 2
}